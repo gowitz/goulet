{
 "cells": [
  {
   "cell_type": "markdown",
   "metadata": {},
   "source": [
    "# Impot libraries #"
   ]
  },
  {
   "cell_type": "code",
   "execution_count": 1,
   "metadata": {},
   "outputs": [],
   "source": [
    "import pandas as pd\n",
    "import geopandas as gpd\n",
    "import matplotlib.pyplot as plt\n",
    "import sqlite3"
   ]
  },
  {
   "cell_type": "markdown",
   "metadata": {},
   "source": [
    "# Define files to read #"
   ]
  },
  {
   "cell_type": "markdown",
   "metadata": {},
   "source": [
    "## Parcelles ##"
   ]
  },
  {
   "cell_type": "code",
   "execution_count": 2,
   "metadata": {},
   "outputs": [],
   "source": [
    "file_NPCS_PARV = \"../data/shapefiles/NPCS_CAD_TPR_PARV_S.shp\"\n",
    "file_MOVD_PARV= \"../data/shapefiles/MOVD_CAD_TPR_PARV_S.shp\"\n",
    "#file_NPCS_DDP = \"../data/shapefiles/NPCS_CAD_TPR_DDP_S.shp\"\n",
    "#file_MOVD_DDP = \"../data/shapefiles/MOVD_CAD_TPR_DDP_S.shp\""
   ]
  },
  {
   "cell_type": "markdown",
   "metadata": {},
   "source": [
    "## Other data ##"
   ]
  },
  {
   "cell_type": "code",
   "execution_count": 3,
   "metadata": {},
   "outputs": [],
   "source": [
    "file_communes_vd = '../data/communes_vd.csv'"
   ]
  },
  {
   "cell_type": "markdown",
   "metadata": {},
   "source": [
    "# DB connexion #"
   ]
  },
  {
   "cell_type": "code",
   "execution_count": 4,
   "metadata": {},
   "outputs": [],
   "source": [
    "db_file = '../data/APMK.sqlite'\n",
    "con = sqlite3.connect(db_file)"
   ]
  },
  {
   "cell_type": "markdown",
   "metadata": {},
   "source": [
    "# Load parcelles data #"
   ]
  },
  {
   "cell_type": "code",
   "execution_count": 5,
   "metadata": {},
   "outputs": [],
   "source": [
    "parcelles_NPCS_PARV = gpd.read_file(file_NPCS_PARV)\n",
    "parcelles_MOVD_PARV = gpd.read_file(file_MOVD_PARV)\n",
    "#parcelles_NPCS_DDP = gpd.read_file(file_NPCS_DDP)\n",
    "#parcelles_MOVD_DDP = gpd.read_file(file_MOVD_DDP)"
   ]
  },
  {
   "cell_type": "markdown",
   "metadata": {},
   "source": [
    "## Merge parcelles dataframe ##"
   ]
  },
  {
   "cell_type": "code",
   "execution_count": 6,
   "metadata": {},
   "outputs": [],
   "source": [
    "parcelles_shape = pd.concat([parcelles_NPCS_PARV, parcelles_MOVD_PARV])\n",
    "#parcelles_shape2 = pd.concat([parcelles_NPCS_DDP, parcelles_MOVD_DDP])\n",
    "#parcelles_shape2.insert(1, 'IDEX2000', \"\")\n",
    "#parcelles_shape = pd.concat([parcelles_shape1, parcelles_shape2])\n",
    "parcelles_shape.reset_index(drop=True, inplace=True)"
   ]
  },
  {
   "cell_type": "markdown",
   "metadata": {},
   "source": [
    "## load no OFS communes ##"
   ]
  },
  {
   "cell_type": "code",
   "execution_count": 7,
   "metadata": {},
   "outputs": [],
   "source": [
    "no_ofs_communes = pd.read_sql_query(\"SELECT no_commune as no_ofs, nom_commune as commune from communes\", con)"
   ]
  },
  {
   "cell_type": "markdown",
   "metadata": {},
   "source": [
    "## load potential land usage ##"
   ]
  },
  {
   "cell_type": "code",
   "execution_count": 8,
   "metadata": {},
   "outputs": [],
   "source": [
    "land_usage = pd.read_sql_query(\"SELECT nature FROM types_nature WHERE potentiel = 1\", con)"
   ]
  },
  {
   "cell_type": "markdown",
   "metadata": {},
   "source": [
    "## load public parcelles ##"
   ]
  },
  {
   "cell_type": "code",
   "execution_count": 9,
   "metadata": {},
   "outputs": [],
   "source": [
    "fields = ['no_commune', 'nom_commune', 'immeuble', 'surface', 'proprietaire', 'type_nature', 'surface_nature']\n",
    "listToStr = ', '.join([str(elem) for elem in fields])\n",
    "parcelles_conf = pd.read_sql_query(\"SELECT DISTINCT \" + listToStr + \" FROM APMK\", con)"
   ]
  },
  {
   "cell_type": "markdown",
   "metadata": {},
   "source": [
    "# Find usable parcelles #"
   ]
  },
  {
   "cell_type": "code",
   "execution_count": 10,
   "metadata": {},
   "outputs": [],
   "source": [
    "parcelles_pot = parcelles_conf[parcelles_conf['type_nature'].isin(land_usage['nature'])]"
   ]
  },
  {
   "cell_type": "markdown",
   "metadata": {},
   "source": [
    "# Import data of communes of Vaud #"
   ]
  },
  {
   "cell_type": "code",
   "execution_count": 11,
   "metadata": {},
   "outputs": [],
   "source": [
    "communes_vd_data = pd.read_csv(file_communes_vd)\n",
    "# cleanup\n",
    "communes_vd_data = communes_vd_data.drop(['GEOMETRY'], axis=1)\n",
    "communes_vd_data = communes_vd_data[['ogc_fid', 'no_com_can', 'no_com_fed', 'nom_min', 'perimetre']]"
   ]
  },
  {
   "cell_type": "markdown",
   "metadata": {},
   "source": [
    "## Add no commune Vaud ##"
   ]
  },
  {
   "cell_type": "code",
   "execution_count": 12,
   "metadata": {},
   "outputs": [],
   "source": [
    "communes_no = communes_vd_data[['no_com_fed', 'no_com_can', ]]\n",
    "communes_no = communes_no.rename(columns={\"no_com_fed\": \"no_commune\"})\n",
    "parcelles_pot = pd.merge(parcelles_pot, communes_no, how='left', on='no_commune')"
   ]
  },
  {
   "cell_type": "markdown",
   "metadata": {},
   "source": [
    "## build IDEX2000 value ##"
   ]
  },
  {
   "cell_type": "code",
   "execution_count": 13,
   "metadata": {},
   "outputs": [],
   "source": [
    "parcelles_pot['IDEX2000'] = parcelles_pot['no_com_can'].map('{:0>3}'.format) + parcelles_pot['immeuble'].map('{:0>6}'.format)"
   ]
  },
  {
   "cell_type": "code",
   "execution_count": 14,
   "metadata": {},
   "outputs": [],
   "source": [
    "parcelles_shape['IDEX2000'] = parcelles_shape['IDEX2000'].map('{:0>9}'.format)"
   ]
  },
  {
   "cell_type": "markdown",
   "metadata": {},
   "source": [
    "## build ficheID ##"
   ]
  },
  {
   "cell_type": "code",
   "execution_count": 15,
   "metadata": {},
   "outputs": [],
   "source": [
    "parcelles_pot['fiche_id'] = parcelles_pot['no_com_can'].map(str) + \"_\" + parcelles_pot['immeuble'].map(str)"
   ]
  },
  {
   "cell_type": "markdown",
   "metadata": {},
   "source": [
    "## Add new column 'code' ##\n",
    "**code** : \n",
    "1 = commune\n",
    "2 = confédération\n",
    "3 = état\n",
    "4 = autre"
   ]
  },
  {
   "cell_type": "code",
   "execution_count": 16,
   "metadata": {},
   "outputs": [],
   "source": [
    "parcelles_pot['code'] = None"
   ]
  },
  {
   "cell_type": "code",
   "execution_count": 17,
   "metadata": {},
   "outputs": [],
   "source": [
    "for index, row in parcelles_pot.iterrows():\n",
    "    if row['nom_commune'] == row['proprietaire'].split(\" \", 1)[0]:\n",
    "        parcelles_pot.at[index,'code'] = 1\n",
    "    elif row['proprietaire'].split(\" \", 1)[0] == \"Confédération\":\n",
    "        parcelles_pot.at[index,'code'] = 2\n",
    "    elif row['proprietaire'].split(\" \", 1)[0] == \"Etat\":\n",
    "        parcelles_pot.at[index,'code'] = 3\n",
    "    else:\n",
    "        parcelles_pot.at[index,'code'] = 4"
   ]
  },
  {
   "cell_type": "markdown",
   "metadata": {},
   "source": [
    "# New dataframe #"
   ]
  },
  {
   "cell_type": "code",
   "execution_count": 18,
   "metadata": {},
   "outputs": [],
   "source": [
    "parcelles_pot_geom_data = parcelles_pot[['no_commune', 'no_com_can', 'IDEX2000', 'fiche_id', 'nom_commune', 'immeuble', 'code']]"
   ]
  },
  {
   "cell_type": "markdown",
   "metadata": {},
   "source": [
    "## Drop duplicate rows and reindex ##"
   ]
  },
  {
   "cell_type": "code",
   "execution_count": 19,
   "metadata": {},
   "outputs": [],
   "source": [
    "parcelles_pot_geom_data = parcelles_pot_geom_data.drop_duplicates()\n",
    "parcelles_pot_geom_data.reset_index(drop=True, inplace=True)"
   ]
  },
  {
   "cell_type": "code",
   "execution_count": 20,
   "metadata": {},
   "outputs": [],
   "source": [
    "parcelles_pot_geom = gpd.GeoDataFrame(parcelles_pot_geom_data)\n",
    "parcelles_pot_geom['geometry'] = None\n",
    "parcelles_pot_geom = parcelles_pot_geom.set_crs(crs=2056)\n",
    "parcelles_pot_geom = parcelles_pot_geom.drop(['geometry'], axis=1)\n",
    "\n",
    "parcelles_geom = parcelles_shape[['IDEX2000', 'geometry']]\n",
    "parcelles_pot_geom = pd.merge(parcelles_pot_geom, parcelles_geom, how='left', on='IDEX2000')"
   ]
  },
  {
   "cell_type": "code",
   "execution_count": null,
   "metadata": {},
   "outputs": [],
   "source": [
    "import contextily as cx\n",
    "import matplotlib.pyplot as plt\n",
    "fig, ax = plt.subplots(figsize=(10,10))\n",
    "parcelles_pot_geom.plot(ax=ax, cmap='rainbow', column='code', legend=True)\n",
    "cx.add_basemap(ax=ax, crs=2056, source=cx.providers.Stamen.TonerLite)"
   ]
  },
  {
   "cell_type": "code",
   "execution_count": null,
   "metadata": {},
   "outputs": [],
   "source": [
    "#parcelles_pot_geom['nom_commune' == 'Apples']\n",
    "mex  = parcelles_pot_geom.loc[parcelles_pot_geom['nom_commune'] == 'Mex']\n",
    "#mex  = parcelles_pot_geom.loc[parcelles_pot_geom['fiche_id'] == '138_36']"
   ]
  },
  {
   "cell_type": "code",
   "execution_count": null,
   "metadata": {},
   "outputs": [],
   "source": [
    "mex = mex[['nom_commune', 'code', 'fiche_id', 'geometry']]"
   ]
  },
  {
   "cell_type": "code",
   "execution_count": null,
   "metadata": {},
   "outputs": [],
   "source": [
    "mex['cent'] = mex.centroid"
   ]
  },
  {
   "cell_type": "code",
   "execution_count": null,
   "metadata": {},
   "outputs": [],
   "source": [
    "Apples"
   ]
  },
  {
   "cell_type": "code",
   "execution_count": null,
   "metadata": {},
   "outputs": [],
   "source": []
  }
 ],
 "metadata": {
  "kernelspec": {
   "display_name": "Python 3",
   "language": "python",
   "name": "python3"
  },
  "language_info": {
   "codemirror_mode": {
    "name": "ipython",
    "version": 3
   },
   "file_extension": ".py",
   "mimetype": "text/x-python",
   "name": "python",
   "nbconvert_exporter": "python",
   "pygments_lexer": "ipython3",
   "version": "3.7.9"
  }
 },
 "nbformat": 4,
 "nbformat_minor": 4
}
