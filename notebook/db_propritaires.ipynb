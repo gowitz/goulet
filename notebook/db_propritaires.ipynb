{
 "cells": [
  {
   "cell_type": "markdown",
   "metadata": {},
   "source": [
    "# Traitement DB prpriétaires #"
   ]
  },
  {
   "cell_type": "markdown",
   "metadata": {},
   "source": [
    "# Import libraries #"
   ]
  },
  {
   "cell_type": "code",
   "execution_count": 1,
   "metadata": {},
   "outputs": [],
   "source": [
    "import pandas as pd\n",
    "import sqlite3"
   ]
  },
  {
   "cell_type": "markdown",
   "metadata": {},
   "source": [
    "# DB connexion #"
   ]
  },
  {
   "cell_type": "code",
   "execution_count": 2,
   "metadata": {},
   "outputs": [],
   "source": [
    "db_file = '../data/APMK.sqlite'\n",
    "con = sqlite3.connect(db_file)"
   ]
  },
  {
   "cell_type": "markdown",
   "metadata": {},
   "source": [
    "# Load data #"
   ]
  },
  {
   "cell_type": "markdown",
   "metadata": {},
   "source": [
    "## load communes ##"
   ]
  },
  {
   "cell_type": "code",
   "execution_count": 4,
   "metadata": {},
   "outputs": [
    {
     "data": {
      "text/html": [
       "<div>\n",
       "<style scoped>\n",
       "    .dataframe tbody tr th:only-of-type {\n",
       "        vertical-align: middle;\n",
       "    }\n",
       "\n",
       "    .dataframe tbody tr th {\n",
       "        vertical-align: top;\n",
       "    }\n",
       "\n",
       "    .dataframe thead th {\n",
       "        text-align: right;\n",
       "    }\n",
       "</style>\n",
       "<table border=\"1\" class=\"dataframe\">\n",
       "  <thead>\n",
       "    <tr style=\"text-align: right;\">\n",
       "      <th></th>\n",
       "      <th>no_commune</th>\n",
       "      <th>nom_commune</th>\n",
       "    </tr>\n",
       "  </thead>\n",
       "  <tbody>\n",
       "    <tr>\n",
       "      <th>0</th>\n",
       "      <td>5421</td>\n",
       "      <td>Apples</td>\n",
       "    </tr>\n",
       "    <tr>\n",
       "      <th>1</th>\n",
       "      <td>5423</td>\n",
       "      <td>Ballens</td>\n",
       "    </tr>\n",
       "    <tr>\n",
       "      <th>2</th>\n",
       "      <td>5432</td>\n",
       "      <td>Montherod</td>\n",
       "    </tr>\n",
       "  </tbody>\n",
       "</table>\n",
       "</div>"
      ],
      "text/plain": [
       "   no_commune nom_commune\n",
       "0        5421      Apples\n",
       "1        5423     Ballens\n",
       "2        5432   Montherod"
      ]
     },
     "execution_count": 4,
     "metadata": {},
     "output_type": "execute_result"
    }
   ],
   "source": [
    "communes = pd.read_sql_query(\"SELECT * from communes\", con)\n",
    "communes.head(3)"
   ]
  },
  {
   "cell_type": "markdown",
   "metadata": {},
   "source": [
    "## load potential land usage ##"
   ]
  },
  {
   "cell_type": "code",
   "execution_count": 7,
   "metadata": {},
   "outputs": [
    {
     "data": {
      "text/html": [
       "<div>\n",
       "<style scoped>\n",
       "    .dataframe tbody tr th:only-of-type {\n",
       "        vertical-align: middle;\n",
       "    }\n",
       "\n",
       "    .dataframe tbody tr th {\n",
       "        vertical-align: top;\n",
       "    }\n",
       "\n",
       "    .dataframe thead th {\n",
       "        text-align: right;\n",
       "    }\n",
       "</style>\n",
       "<table border=\"1\" class=\"dataframe\">\n",
       "  <thead>\n",
       "    <tr style=\"text-align: right;\">\n",
       "      <th></th>\n",
       "      <th>nature</th>\n",
       "    </tr>\n",
       "  </thead>\n",
       "  <tbody>\n",
       "    <tr>\n",
       "      <th>0</th>\n",
       "      <td>Jardin</td>\n",
       "    </tr>\n",
       "    <tr>\n",
       "      <th>1</th>\n",
       "      <td>Champ, pré, pâturage</td>\n",
       "    </tr>\n",
       "    <tr>\n",
       "      <th>2</th>\n",
       "      <td>Forêt</td>\n",
       "    </tr>\n",
       "  </tbody>\n",
       "</table>\n",
       "</div>"
      ],
      "text/plain": [
       "                 nature\n",
       "0                Jardin\n",
       "1  Champ, pré, pâturage\n",
       "2                 Forêt"
      ]
     },
     "execution_count": 7,
     "metadata": {},
     "output_type": "execute_result"
    }
   ],
   "source": [
    "land_usage = pd.read_sql_query(\"SELECT nature FROM types_nature WHERE potentiel = 1\", con)\n",
    "land_usage.head(3)"
   ]
  },
  {
   "cell_type": "markdown",
   "metadata": {},
   "source": [
    "## load public parcelles ##"
   ]
  },
  {
   "cell_type": "code",
   "execution_count": 35,
   "metadata": {},
   "outputs": [
    {
     "data": {
      "text/html": [
       "<div>\n",
       "<style scoped>\n",
       "    .dataframe tbody tr th:only-of-type {\n",
       "        vertical-align: middle;\n",
       "    }\n",
       "\n",
       "    .dataframe tbody tr th {\n",
       "        vertical-align: top;\n",
       "    }\n",
       "\n",
       "    .dataframe thead th {\n",
       "        text-align: right;\n",
       "    }\n",
       "</style>\n",
       "<table border=\"1\" class=\"dataframe\">\n",
       "  <thead>\n",
       "    <tr style=\"text-align: right;\">\n",
       "      <th></th>\n",
       "      <th>no_commune</th>\n",
       "      <th>nom_commune</th>\n",
       "      <th>immeuble</th>\n",
       "      <th>surface</th>\n",
       "      <th>proprietaire</th>\n",
       "      <th>type_nature</th>\n",
       "      <th>surface_nature</th>\n",
       "    </tr>\n",
       "  </thead>\n",
       "  <tbody>\n",
       "    <tr>\n",
       "      <th>0</th>\n",
       "      <td>5423</td>\n",
       "      <td>Ballens</td>\n",
       "      <td>689</td>\n",
       "      <td>24461.0</td>\n",
       "      <td>Confédération Suisse, Etat-major général, Div....</td>\n",
       "      <td>Forêt</td>\n",
       "      <td>24461.0</td>\n",
       "    </tr>\n",
       "    <tr>\n",
       "      <th>1</th>\n",
       "      <td>5432</td>\n",
       "      <td>Montherod</td>\n",
       "      <td>199</td>\n",
       "      <td>9474.0</td>\n",
       "      <td>Confédération Suisse, Etat-major général, Div....</td>\n",
       "      <td>Forêt</td>\n",
       "      <td>9474.0</td>\n",
       "    </tr>\n",
       "    <tr>\n",
       "      <th>2</th>\n",
       "      <td>5432</td>\n",
       "      <td>Montherod</td>\n",
       "      <td>205</td>\n",
       "      <td>13093.0</td>\n",
       "      <td>Confédération Suisse, Etat-major général, Div....</td>\n",
       "      <td>Forêt</td>\n",
       "      <td>13093.0</td>\n",
       "    </tr>\n",
       "  </tbody>\n",
       "</table>\n",
       "</div>"
      ],
      "text/plain": [
       "   no_commune nom_commune  immeuble  surface  \\\n",
       "0        5423     Ballens       689  24461.0   \n",
       "1        5432   Montherod       199   9474.0   \n",
       "2        5432   Montherod       205  13093.0   \n",
       "\n",
       "                                        proprietaire type_nature  \\\n",
       "0  Confédération Suisse, Etat-major général, Div....       Forêt   \n",
       "1  Confédération Suisse, Etat-major général, Div....       Forêt   \n",
       "2  Confédération Suisse, Etat-major général, Div....       Forêt   \n",
       "\n",
       "   surface_nature  \n",
       "0         24461.0  \n",
       "1          9474.0  \n",
       "2         13093.0  "
      ]
     },
     "execution_count": 35,
     "metadata": {},
     "output_type": "execute_result"
    }
   ],
   "source": [
    "fields = ['no_commune', 'nom_commune', 'immeuble', 'surface', 'proprietaire', 'type_nature', 'surface_nature']\n",
    "listToStr = ', '.join([str(elem) for elem in fields])\n",
    "parcelles_conf = pd.read_sql_query(\"SELECT DISTINCT \" + listToStr + \" FROM APMK WHERE proprietaire LIKE 'Conf%'\", con)\n",
    "parcelles_conf.head(3)"
   ]
  },
  {
   "cell_type": "markdown",
   "metadata": {},
   "source": [
    "### check data ###"
   ]
  },
  {
   "cell_type": "code",
   "execution_count": 36,
   "metadata": {},
   "outputs": [
    {
     "data": {
      "text/plain": [
       "261"
      ]
     },
     "execution_count": 36,
     "metadata": {},
     "output_type": "execute_result"
    }
   ],
   "source": [
    "len(parcelles_conf)"
   ]
  },
  {
   "cell_type": "markdown",
   "metadata": {},
   "source": [
    "# Find parcelles own by Confédération with potatial #"
   ]
  },
  {
   "cell_type": "code",
   "execution_count": 44,
   "metadata": {},
   "outputs": [
    {
     "data": {
      "text/html": [
       "<div>\n",
       "<style scoped>\n",
       "    .dataframe tbody tr th:only-of-type {\n",
       "        vertical-align: middle;\n",
       "    }\n",
       "\n",
       "    .dataframe tbody tr th {\n",
       "        vertical-align: top;\n",
       "    }\n",
       "\n",
       "    .dataframe thead th {\n",
       "        text-align: right;\n",
       "    }\n",
       "</style>\n",
       "<table border=\"1\" class=\"dataframe\">\n",
       "  <thead>\n",
       "    <tr style=\"text-align: right;\">\n",
       "      <th></th>\n",
       "      <th>no_commune</th>\n",
       "      <th>nom_commune</th>\n",
       "      <th>immeuble</th>\n",
       "      <th>surface</th>\n",
       "      <th>proprietaire</th>\n",
       "      <th>type_nature</th>\n",
       "      <th>surface_nature</th>\n",
       "    </tr>\n",
       "  </thead>\n",
       "  <tbody>\n",
       "    <tr>\n",
       "      <th>0</th>\n",
       "      <td>5423</td>\n",
       "      <td>Ballens</td>\n",
       "      <td>689</td>\n",
       "      <td>24461.0</td>\n",
       "      <td>Confédération Suisse, Etat-major général, Div....</td>\n",
       "      <td>Forêt</td>\n",
       "      <td>24461.0</td>\n",
       "    </tr>\n",
       "    <tr>\n",
       "      <th>1</th>\n",
       "      <td>5432</td>\n",
       "      <td>Montherod</td>\n",
       "      <td>199</td>\n",
       "      <td>9474.0</td>\n",
       "      <td>Confédération Suisse, Etat-major général, Div....</td>\n",
       "      <td>Forêt</td>\n",
       "      <td>9474.0</td>\n",
       "    </tr>\n",
       "    <tr>\n",
       "      <th>2</th>\n",
       "      <td>5432</td>\n",
       "      <td>Montherod</td>\n",
       "      <td>205</td>\n",
       "      <td>13093.0</td>\n",
       "      <td>Confédération Suisse, Etat-major général, Div....</td>\n",
       "      <td>Forêt</td>\n",
       "      <td>13093.0</td>\n",
       "    </tr>\n",
       "    <tr>\n",
       "      <th>3</th>\n",
       "      <td>5432</td>\n",
       "      <td>Montherod</td>\n",
       "      <td>301</td>\n",
       "      <td>38374.0</td>\n",
       "      <td>Confédération Suisse, Etat-major général, Div....</td>\n",
       "      <td>Forêt</td>\n",
       "      <td>38374.0</td>\n",
       "    </tr>\n",
       "    <tr>\n",
       "      <th>4</th>\n",
       "      <td>5432</td>\n",
       "      <td>Montherod</td>\n",
       "      <td>302</td>\n",
       "      <td>3906.0</td>\n",
       "      <td>Confédération Suisse, Etat-major général, Div....</td>\n",
       "      <td>Forêt</td>\n",
       "      <td>3906.0</td>\n",
       "    </tr>\n",
       "  </tbody>\n",
       "</table>\n",
       "</div>"
      ],
      "text/plain": [
       "   no_commune nom_commune  immeuble  surface  \\\n",
       "0        5423     Ballens       689  24461.0   \n",
       "1        5432   Montherod       199   9474.0   \n",
       "2        5432   Montherod       205  13093.0   \n",
       "3        5432   Montherod       301  38374.0   \n",
       "4        5432   Montherod       302   3906.0   \n",
       "\n",
       "                                        proprietaire type_nature  \\\n",
       "0  Confédération Suisse, Etat-major général, Div....       Forêt   \n",
       "1  Confédération Suisse, Etat-major général, Div....       Forêt   \n",
       "2  Confédération Suisse, Etat-major général, Div....       Forêt   \n",
       "3  Confédération Suisse, Etat-major général, Div....       Forêt   \n",
       "4  Confédération Suisse, Etat-major général, Div....       Forêt   \n",
       "\n",
       "   surface_nature  \n",
       "0         24461.0  \n",
       "1          9474.0  \n",
       "2         13093.0  \n",
       "3         38374.0  \n",
       "4          3906.0  "
      ]
     },
     "execution_count": 44,
     "metadata": {},
     "output_type": "execute_result"
    }
   ],
   "source": [
    "parcelles_conf_pot = parcelles_conf[parcelles_conf['type_nature'].isin(land_usage['nature'])]\n",
    "parcelles_conf_pot.head()"
   ]
  },
  {
   "cell_type": "code",
   "execution_count": 45,
   "metadata": {},
   "outputs": [
    {
     "data": {
      "text/plain": [
       "142"
      ]
     },
     "execution_count": 45,
     "metadata": {},
     "output_type": "execute_result"
    }
   ],
   "source": [
    "len(parcelles_conf_pot)"
   ]
  },
  {
   "cell_type": "markdown",
   "metadata": {},
   "source": [
    "# Import data of communes of Vaud #"
   ]
  },
  {
   "cell_type": "code",
   "execution_count": 49,
   "metadata": {},
   "outputs": [],
   "source": [
    "file_communes_vd = '../data/communes_vd.csv'\n",
    "communes_vd_data = pd.read_csv(file_communes_vd)\n",
    "# cleanup\n",
    "communes_vd_data = communes_vd_data.drop(['GEOMETRY'], axis=1)"
   ]
  },
  {
   "cell_type": "code",
   "execution_count": 51,
   "metadata": {},
   "outputs": [],
   "source": [
    "communes_vd_data = communes_vd_data[['ogc_fid', 'no_com_can', 'no_com_fed', 'nom_min', 'perimetre']]"
   ]
  },
  {
   "cell_type": "code",
   "execution_count": 53,
   "metadata": {},
   "outputs": [
    {
     "data": {
      "text/html": [
       "<div>\n",
       "<style scoped>\n",
       "    .dataframe tbody tr th:only-of-type {\n",
       "        vertical-align: middle;\n",
       "    }\n",
       "\n",
       "    .dataframe tbody tr th {\n",
       "        vertical-align: top;\n",
       "    }\n",
       "\n",
       "    .dataframe thead th {\n",
       "        text-align: right;\n",
       "    }\n",
       "</style>\n",
       "<table border=\"1\" class=\"dataframe\">\n",
       "  <thead>\n",
       "    <tr style=\"text-align: right;\">\n",
       "      <th></th>\n",
       "      <th>ogc_fid</th>\n",
       "      <th>no_com_can</th>\n",
       "      <th>no_com_fed</th>\n",
       "      <th>nom_min</th>\n",
       "      <th>perimetre</th>\n",
       "    </tr>\n",
       "  </thead>\n",
       "  <tbody>\n",
       "    <tr>\n",
       "      <th>0</th>\n",
       "      <td>1</td>\n",
       "      <td>102</td>\n",
       "      <td>5535</td>\n",
       "      <td>Saint-Barthélemy (VD)</td>\n",
       "      <td>NaN</td>\n",
       "    </tr>\n",
       "    <tr>\n",
       "      <th>1</th>\n",
       "      <td>2</td>\n",
       "      <td>336</td>\n",
       "      <td>5861</td>\n",
       "      <td>Rolle</td>\n",
       "      <td>NaN</td>\n",
       "    </tr>\n",
       "    <tr>\n",
       "      <th>2</th>\n",
       "      <td>3</td>\n",
       "      <td>381</td>\n",
       "      <td>5932</td>\n",
       "      <td>Ursins</td>\n",
       "      <td>NaN</td>\n",
       "    </tr>\n",
       "  </tbody>\n",
       "</table>\n",
       "</div>"
      ],
      "text/plain": [
       "   ogc_fid  no_com_can  no_com_fed                nom_min  perimetre\n",
       "0        1         102        5535  Saint-Barthélemy (VD)        NaN\n",
       "1        2         336        5861                  Rolle        NaN\n",
       "2        3         381        5932                 Ursins        NaN"
      ]
     },
     "execution_count": 53,
     "metadata": {},
     "output_type": "execute_result"
    }
   ],
   "source": [
    "communes_vd_data.head(3)"
   ]
  },
  {
   "cell_type": "markdown",
   "metadata": {},
   "source": [
    "## Add no commune Vaud ##"
   ]
  },
  {
   "cell_type": "code",
   "execution_count": 62,
   "metadata": {},
   "outputs": [],
   "source": [
    "communes_no = communes_vd_data[['no_com_fed', 'no_com_can', ]]\n",
    "communes_no = communes_no.rename(columns={\"no_com_fed\": \"no_commune\"})"
   ]
  },
  {
   "cell_type": "code",
   "execution_count": 65,
   "metadata": {},
   "outputs": [],
   "source": [
    "parcelles_conf_pot = pd.merge(parcelles_conf_pot, communes_no, how='left', on='no_commune')"
   ]
  },
  {
   "cell_type": "markdown",
   "metadata": {},
   "source": [
    "### check data ###"
   ]
  },
  {
   "cell_type": "code",
   "execution_count": 66,
   "metadata": {},
   "outputs": [
    {
     "data": {
      "text/html": [
       "<div>\n",
       "<style scoped>\n",
       "    .dataframe tbody tr th:only-of-type {\n",
       "        vertical-align: middle;\n",
       "    }\n",
       "\n",
       "    .dataframe tbody tr th {\n",
       "        vertical-align: top;\n",
       "    }\n",
       "\n",
       "    .dataframe thead th {\n",
       "        text-align: right;\n",
       "    }\n",
       "</style>\n",
       "<table border=\"1\" class=\"dataframe\">\n",
       "  <thead>\n",
       "    <tr style=\"text-align: right;\">\n",
       "      <th></th>\n",
       "      <th>no_commune</th>\n",
       "      <th>nom_commune</th>\n",
       "      <th>immeuble</th>\n",
       "      <th>surface</th>\n",
       "      <th>proprietaire</th>\n",
       "      <th>type_nature</th>\n",
       "      <th>surface_nature</th>\n",
       "      <th>no_com_can</th>\n",
       "    </tr>\n",
       "  </thead>\n",
       "  <tbody>\n",
       "    <tr>\n",
       "      <th>0</th>\n",
       "      <td>5423</td>\n",
       "      <td>Ballens</td>\n",
       "      <td>689</td>\n",
       "      <td>24461.0</td>\n",
       "      <td>Confédération Suisse, Etat-major général, Div....</td>\n",
       "      <td>Forêt</td>\n",
       "      <td>24461.0</td>\n",
       "      <td>18</td>\n",
       "    </tr>\n",
       "    <tr>\n",
       "      <th>1</th>\n",
       "      <td>5432</td>\n",
       "      <td>Montherod</td>\n",
       "      <td>199</td>\n",
       "      <td>9474.0</td>\n",
       "      <td>Confédération Suisse, Etat-major général, Div....</td>\n",
       "      <td>Forêt</td>\n",
       "      <td>9474.0</td>\n",
       "      <td>27</td>\n",
       "    </tr>\n",
       "    <tr>\n",
       "      <th>2</th>\n",
       "      <td>5432</td>\n",
       "      <td>Montherod</td>\n",
       "      <td>205</td>\n",
       "      <td>13093.0</td>\n",
       "      <td>Confédération Suisse, Etat-major général, Div....</td>\n",
       "      <td>Forêt</td>\n",
       "      <td>13093.0</td>\n",
       "      <td>27</td>\n",
       "    </tr>\n",
       "  </tbody>\n",
       "</table>\n",
       "</div>"
      ],
      "text/plain": [
       "   no_commune nom_commune  immeuble  surface  \\\n",
       "0        5423     Ballens       689  24461.0   \n",
       "1        5432   Montherod       199   9474.0   \n",
       "2        5432   Montherod       205  13093.0   \n",
       "\n",
       "                                        proprietaire type_nature  \\\n",
       "0  Confédération Suisse, Etat-major général, Div....       Forêt   \n",
       "1  Confédération Suisse, Etat-major général, Div....       Forêt   \n",
       "2  Confédération Suisse, Etat-major général, Div....       Forêt   \n",
       "\n",
       "   surface_nature  no_com_can  \n",
       "0         24461.0          18  \n",
       "1          9474.0          27  \n",
       "2         13093.0          27  "
      ]
     },
     "execution_count": 66,
     "metadata": {},
     "output_type": "execute_result"
    }
   ],
   "source": [
    "parcelles_conf_pot.head(3)"
   ]
  },
  {
   "cell_type": "code",
   "execution_count": 70,
   "metadata": {},
   "outputs": [
    {
     "data": {
      "text/plain": [
       "array([ 18,  27,  30,  46,  47,  51,  54,  65,  72,  76,  96, 127, 130,\n",
       "       132, 133, 136, 138, 157, 160, 168, 170, 171, 175, 176, 181, 184,\n",
       "       185, 351])"
      ]
     },
     "execution_count": 70,
     "metadata": {},
     "output_type": "execute_result"
    }
   ],
   "source": [
    "parcelles_conf_pot.no_com_can.unique()"
   ]
  },
  {
   "cell_type": "markdown",
   "metadata": {},
   "source": [
    "## build IDEX2000 value ##"
   ]
  },
  {
   "cell_type": "code",
   "execution_count": 73,
   "metadata": {},
   "outputs": [],
   "source": [
    "parcelles_conf_pot['IDEX2000'] = parcelles_conf_pot['no_com_can'].map('{:0>3}'.format) + parcelles_conf_pot['immeuble'].map('{:0>6}'.format)"
   ]
  },
  {
   "cell_type": "code",
   "execution_count": 74,
   "metadata": {},
   "outputs": [
    {
     "data": {
      "text/html": [
       "<div>\n",
       "<style scoped>\n",
       "    .dataframe tbody tr th:only-of-type {\n",
       "        vertical-align: middle;\n",
       "    }\n",
       "\n",
       "    .dataframe tbody tr th {\n",
       "        vertical-align: top;\n",
       "    }\n",
       "\n",
       "    .dataframe thead th {\n",
       "        text-align: right;\n",
       "    }\n",
       "</style>\n",
       "<table border=\"1\" class=\"dataframe\">\n",
       "  <thead>\n",
       "    <tr style=\"text-align: right;\">\n",
       "      <th></th>\n",
       "      <th>no_commune</th>\n",
       "      <th>nom_commune</th>\n",
       "      <th>immeuble</th>\n",
       "      <th>surface</th>\n",
       "      <th>proprietaire</th>\n",
       "      <th>type_nature</th>\n",
       "      <th>surface_nature</th>\n",
       "      <th>no_com_can</th>\n",
       "      <th>IDEX2000</th>\n",
       "    </tr>\n",
       "  </thead>\n",
       "  <tbody>\n",
       "    <tr>\n",
       "      <th>0</th>\n",
       "      <td>5423</td>\n",
       "      <td>Ballens</td>\n",
       "      <td>689</td>\n",
       "      <td>24461.0</td>\n",
       "      <td>Confédération Suisse, Etat-major général, Div....</td>\n",
       "      <td>Forêt</td>\n",
       "      <td>24461.0</td>\n",
       "      <td>18</td>\n",
       "      <td>018000689</td>\n",
       "    </tr>\n",
       "    <tr>\n",
       "      <th>1</th>\n",
       "      <td>5432</td>\n",
       "      <td>Montherod</td>\n",
       "      <td>199</td>\n",
       "      <td>9474.0</td>\n",
       "      <td>Confédération Suisse, Etat-major général, Div....</td>\n",
       "      <td>Forêt</td>\n",
       "      <td>9474.0</td>\n",
       "      <td>27</td>\n",
       "      <td>027000199</td>\n",
       "    </tr>\n",
       "    <tr>\n",
       "      <th>2</th>\n",
       "      <td>5432</td>\n",
       "      <td>Montherod</td>\n",
       "      <td>205</td>\n",
       "      <td>13093.0</td>\n",
       "      <td>Confédération Suisse, Etat-major général, Div....</td>\n",
       "      <td>Forêt</td>\n",
       "      <td>13093.0</td>\n",
       "      <td>27</td>\n",
       "      <td>027000205</td>\n",
       "    </tr>\n",
       "    <tr>\n",
       "      <th>3</th>\n",
       "      <td>5432</td>\n",
       "      <td>Montherod</td>\n",
       "      <td>301</td>\n",
       "      <td>38374.0</td>\n",
       "      <td>Confédération Suisse, Etat-major général, Div....</td>\n",
       "      <td>Forêt</td>\n",
       "      <td>38374.0</td>\n",
       "      <td>27</td>\n",
       "      <td>027000301</td>\n",
       "    </tr>\n",
       "    <tr>\n",
       "      <th>4</th>\n",
       "      <td>5432</td>\n",
       "      <td>Montherod</td>\n",
       "      <td>302</td>\n",
       "      <td>3906.0</td>\n",
       "      <td>Confédération Suisse, Etat-major général, Div....</td>\n",
       "      <td>Forêt</td>\n",
       "      <td>3906.0</td>\n",
       "      <td>27</td>\n",
       "      <td>027000302</td>\n",
       "    </tr>\n",
       "    <tr>\n",
       "      <th>...</th>\n",
       "      <td>...</td>\n",
       "      <td>...</td>\n",
       "      <td>...</td>\n",
       "      <td>...</td>\n",
       "      <td>...</td>\n",
       "      <td>...</td>\n",
       "      <td>...</td>\n",
       "      <td>...</td>\n",
       "      <td>...</td>\n",
       "    </tr>\n",
       "    <tr>\n",
       "      <th>137</th>\n",
       "      <td>5652</td>\n",
       "      <td>Villars-sous-Yens</td>\n",
       "      <td>513</td>\n",
       "      <td>540.0</td>\n",
       "      <td>Confédération Suisse Département Militaire Féd...</td>\n",
       "      <td>Place-jardin</td>\n",
       "      <td>423.0</td>\n",
       "      <td>185</td>\n",
       "      <td>185000513</td>\n",
       "    </tr>\n",
       "    <tr>\n",
       "      <th>138</th>\n",
       "      <td>5902</td>\n",
       "      <td>Belmont-sur-Yverdon</td>\n",
       "      <td>651</td>\n",
       "      <td>40938.0</td>\n",
       "      <td>Confédération Suisse Office fédéral des routes...</td>\n",
       "      <td>Champ, pré, pâturage</td>\n",
       "      <td>13612.0</td>\n",
       "      <td>351</td>\n",
       "      <td>351000651</td>\n",
       "    </tr>\n",
       "    <tr>\n",
       "      <th>139</th>\n",
       "      <td>5902</td>\n",
       "      <td>Belmont-sur-Yverdon</td>\n",
       "      <td>651</td>\n",
       "      <td>40938.0</td>\n",
       "      <td>Confédération Suisse Office fédéral des routes...</td>\n",
       "      <td>Forêt</td>\n",
       "      <td>4286.0</td>\n",
       "      <td>351</td>\n",
       "      <td>351000651</td>\n",
       "    </tr>\n",
       "    <tr>\n",
       "      <th>140</th>\n",
       "      <td>5902</td>\n",
       "      <td>Belmont-sur-Yverdon</td>\n",
       "      <td>652</td>\n",
       "      <td>51949.0</td>\n",
       "      <td>Confédération Suisse Office fédéral des routes...</td>\n",
       "      <td>Champ, pré, pâturage</td>\n",
       "      <td>29114.0</td>\n",
       "      <td>351</td>\n",
       "      <td>351000652</td>\n",
       "    </tr>\n",
       "    <tr>\n",
       "      <th>141</th>\n",
       "      <td>5902</td>\n",
       "      <td>Belmont-sur-Yverdon</td>\n",
       "      <td>656</td>\n",
       "      <td>8186.0</td>\n",
       "      <td>Confédération Suisse Office fédéral des routes...</td>\n",
       "      <td>Champ, pré, pâturage</td>\n",
       "      <td>2294.0</td>\n",
       "      <td>351</td>\n",
       "      <td>351000656</td>\n",
       "    </tr>\n",
       "  </tbody>\n",
       "</table>\n",
       "<p>142 rows × 9 columns</p>\n",
       "</div>"
      ],
      "text/plain": [
       "     no_commune          nom_commune  immeuble  surface  \\\n",
       "0          5423              Ballens       689  24461.0   \n",
       "1          5432            Montherod       199   9474.0   \n",
       "2          5432            Montherod       205  13093.0   \n",
       "3          5432            Montherod       301  38374.0   \n",
       "4          5432            Montherod       302   3906.0   \n",
       "..          ...                  ...       ...      ...   \n",
       "137        5652    Villars-sous-Yens       513    540.0   \n",
       "138        5902  Belmont-sur-Yverdon       651  40938.0   \n",
       "139        5902  Belmont-sur-Yverdon       651  40938.0   \n",
       "140        5902  Belmont-sur-Yverdon       652  51949.0   \n",
       "141        5902  Belmont-sur-Yverdon       656   8186.0   \n",
       "\n",
       "                                          proprietaire           type_nature  \\\n",
       "0    Confédération Suisse, Etat-major général, Div....                 Forêt   \n",
       "1    Confédération Suisse, Etat-major général, Div....                 Forêt   \n",
       "2    Confédération Suisse, Etat-major général, Div....                 Forêt   \n",
       "3    Confédération Suisse, Etat-major général, Div....                 Forêt   \n",
       "4    Confédération Suisse, Etat-major général, Div....                 Forêt   \n",
       "..                                                 ...                   ...   \n",
       "137  Confédération Suisse Département Militaire Féd...          Place-jardin   \n",
       "138  Confédération Suisse Office fédéral des routes...  Champ, pré, pâturage   \n",
       "139  Confédération Suisse Office fédéral des routes...                 Forêt   \n",
       "140  Confédération Suisse Office fédéral des routes...  Champ, pré, pâturage   \n",
       "141  Confédération Suisse Office fédéral des routes...  Champ, pré, pâturage   \n",
       "\n",
       "     surface_nature  no_com_can   IDEX2000  \n",
       "0           24461.0          18  018000689  \n",
       "1            9474.0          27  027000199  \n",
       "2           13093.0          27  027000205  \n",
       "3           38374.0          27  027000301  \n",
       "4            3906.0          27  027000302  \n",
       "..              ...         ...        ...  \n",
       "137           423.0         185  185000513  \n",
       "138         13612.0         351  351000651  \n",
       "139          4286.0         351  351000651  \n",
       "140         29114.0         351  351000652  \n",
       "141          2294.0         351  351000656  \n",
       "\n",
       "[142 rows x 9 columns]"
      ]
     },
     "execution_count": 74,
     "metadata": {},
     "output_type": "execute_result"
    }
   ],
   "source": [
    "parcelles_conf_pot"
   ]
  },
  {
   "cell_type": "markdown",
   "metadata": {},
   "source": [
    "# Export to csv #"
   ]
  },
  {
   "cell_type": "code",
   "execution_count": 75,
   "metadata": {},
   "outputs": [],
   "source": [
    "parcelles_conf_pot.to_csv('../data/parcelles_conf_pot.csv', index=False)"
   ]
  },
  {
   "cell_type": "code",
   "execution_count": null,
   "metadata": {},
   "outputs": [],
   "source": []
  }
 ],
 "metadata": {
  "kernelspec": {
   "display_name": "Python 3",
   "language": "python",
   "name": "python3"
  },
  "language_info": {
   "codemirror_mode": {
    "name": "ipython",
    "version": 3
   },
   "file_extension": ".py",
   "mimetype": "text/x-python",
   "name": "python",
   "nbconvert_exporter": "python",
   "pygments_lexer": "ipython3",
   "version": "3.7.9"
  }
 },
 "nbformat": 4,
 "nbformat_minor": 4
}
